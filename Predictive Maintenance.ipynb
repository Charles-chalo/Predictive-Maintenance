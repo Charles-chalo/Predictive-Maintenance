{
  "nbformat": 4,
  "nbformat_minor": 0,
  "metadata": {
    "colab": {
      "provenance": []
    },
    "kernelspec": {
      "name": "python3",
      "display_name": "Python 3"
    },
    "language_info": {
      "name": "python"
    }
  },
  "cells": [
    {
      "cell_type": "code",
      "execution_count": 1,
      "metadata": {
        "id": "yFJA4ybvzLlk"
      },
      "outputs": [],
      "source": [
        "import pandas as pd\n",
        "import numpy as np\n",
        "from sklearn.model_selection import train_test_split\n",
        "from sklearn.ensemble import RandomForestClassifier\n",
        "from sklearn.metrics import accuracy_score, classification_report\n"
      ]
    },
    {
      "cell_type": "code",
      "source": [
        "import pandas as pd\n",
        "import numpy as np\n",
        "from datetime import datetime, timedelta\n",
        "\n",
        "# Set random seed for reproducibility\n",
        "np.random.seed(42)\n",
        "\n",
        "# Number of data points\n",
        "num_data_points = 1000\n",
        "\n",
        "# Create synthetic sensor data\n",
        "sensor_data = pd.DataFrame({\n",
        "    'Timestamp': pd.date_range(start=datetime.now(), periods=num_data_points, freq='H'),\n",
        "        'Temperature': np.random.normal(loc=25, scale=5, size=num_data_points),\n",
        "            'Pressure': np.random.normal(loc=100, scale=10, size=num_data_points),\n",
        "                'Vibration': np.random.normal(loc=0, scale=1, size=num_data_points),\n",
        "                })\n",
        "\n",
        "                # Create synthetic maintenance records\n",
        "maintenance_records = pd.DataFrame({\n",
        "    'Timestamp': pd.date_range(start=datetime.now(), periods=num_data_points//10, freq='D'),\n",
        "          'Maintenance_Type': np.random.choice(['Routine', 'Emergency'], size=num_data_points//10),\n",
        "            })\n",
        "\n",
        "                        # Merge sensor data and maintenance records\n",
        "df = pd.merge_asof(sensor_data, maintenance_records, on='Timestamp', direction='backward')\n",
        "\n",
        "                        # Fill NaN values in 'Maintenance_Type' with 'No Maintenance'\n",
        "df['Maintenance_Type'].fillna('No Maintenance', inplace=True)\n",
        "\n",
        "                        # Create binary target variable indicating failure (1) or not (0)\n",
        "df['Failure'] = np.where(df['Maintenance_Type'] == 'Emergency', 1, 0)\n",
        "\n",
        "                        # Save the synthetic dataset to a CSV file\n",
        "df.to_csv('data.csv', index=False)\n"
      ],
      "metadata": {
        "id": "QfzDl_XvzzYy"
      },
      "execution_count": 3,
      "outputs": []
    },
    {
      "cell_type": "code",
      "source": [
        "# Load the data into a pandas DataFrame\n",
        "df = pd.read_csv('data.csv')\n"
      ],
      "metadata": {
        "id": "zlEeG4Dx0AA4"
      },
      "execution_count": 4,
      "outputs": []
    },
    {
      "cell_type": "code",
      "source": [
        "# Basic data exploration\n",
        "print(df.head())\n",
        "print(df.info())\n",
        "print(df.describe())\n"
      ],
      "metadata": {
        "id": "H1eUPgmVzZe9",
        "colab": {
          "base_uri": "https://localhost:8080/"
        },
        "outputId": "298f7da7-d77d-4e5e-a4c6-ee50a849f14f"
      },
      "execution_count": 5,
      "outputs": [
        {
          "output_type": "stream",
          "name": "stdout",
          "text": [
            "                    Timestamp  Temperature    Pressure  Vibration  \\\n",
            "0  2023-11-17 16:52:52.039286    27.483571  113.993554  -0.675178   \n",
            "1  2023-11-17 17:52:52.039286    24.308678  109.246337  -0.144519   \n",
            "2  2023-11-17 18:52:52.039286    28.238443  100.596304  -0.792420   \n",
            "3  2023-11-17 19:52:52.039286    32.615149   93.530632  -0.307962   \n",
            "4  2023-11-17 20:52:52.039286    23.829233  106.982233  -1.893615   \n",
            "\n",
            "  Maintenance_Type  Failure  \n",
            "0   No Maintenance        0  \n",
            "1        Emergency        1  \n",
            "2        Emergency        1  \n",
            "3        Emergency        1  \n",
            "4        Emergency        1  \n",
            "<class 'pandas.core.frame.DataFrame'>\n",
            "RangeIndex: 1000 entries, 0 to 999\n",
            "Data columns (total 6 columns):\n",
            " #   Column            Non-Null Count  Dtype  \n",
            "---  ------            --------------  -----  \n",
            " 0   Timestamp         1000 non-null   object \n",
            " 1   Temperature       1000 non-null   float64\n",
            " 2   Pressure          1000 non-null   float64\n",
            " 3   Vibration         1000 non-null   float64\n",
            " 4   Maintenance_Type  1000 non-null   object \n",
            " 5   Failure           1000 non-null   int64  \n",
            "dtypes: float64(3), int64(1), object(2)\n",
            "memory usage: 47.0+ KB\n",
            "None\n",
            "       Temperature     Pressure    Vibration      Failure\n",
            "count  1000.000000  1000.000000  1000.000000  1000.000000\n",
            "mean     25.096660   100.708362     0.005834     0.456000\n",
            "std       4.896080     9.974544     0.983454     0.498309\n",
            "min       8.793663    70.596114    -3.019512     0.000000\n",
            "25%      21.762048    93.937583    -0.648000     0.000000\n",
            "50%      25.126503   100.630771    -0.000251     0.000000\n",
            "75%      28.239719   107.288822     0.660915     1.000000\n",
            "max      44.263657   131.931076     3.926238     1.000000\n"
          ]
        }
      ]
    },
    {
      "cell_type": "code",
      "source": [
        "# Feature selection\n",
        "features = ['Temperature', 'Pressure', 'Vibration']\n",
        "X = df[features]\n",
        "y = df['Failure']"
      ],
      "metadata": {
        "id": "39vHQ8dQNTBd"
      },
      "execution_count": 8,
      "outputs": []
    },
    {
      "cell_type": "code",
      "source": [
        "# Example: Impute missing values with mean\n",
        "X.fillna(X.mean(), inplace=True)\n"
      ],
      "metadata": {
        "id": "mG4MTnTkzdrL",
        "colab": {
          "base_uri": "https://localhost:8080/"
        },
        "outputId": "cbd70817-4fae-460b-e238-a0fe58ed60e8"
      },
      "execution_count": 9,
      "outputs": [
        {
          "output_type": "stream",
          "name": "stderr",
          "text": [
            "<ipython-input-9-bd86c69ddef0>:2: SettingWithCopyWarning: \n",
            "A value is trying to be set on a copy of a slice from a DataFrame.\n",
            "Try using .loc[row_indexer,col_indexer] = value instead\n",
            "\n",
            "See the caveats in the documentation: https://pandas.pydata.org/pandas-docs/stable/user_guide/indexing.html#returning-a-view-versus-a-copy\n",
            "  X.fillna(X.mean(), inplace=True)\n",
            "<ipython-input-9-bd86c69ddef0>:2: SettingWithCopyWarning: \n",
            "A value is trying to be set on a copy of a slice from a DataFrame.\n",
            "Try using .loc[row_indexer,col_indexer] = value instead\n",
            "\n",
            "See the caveats in the documentation: https://pandas.pydata.org/pandas-docs/stable/user_guide/indexing.html#returning-a-view-versus-a-copy\n",
            "  X.fillna(X.mean(), inplace=True)\n",
            "<ipython-input-9-bd86c69ddef0>:2: SettingWithCopyWarning: \n",
            "A value is trying to be set on a copy of a slice from a DataFrame.\n",
            "Try using .loc[row_indexer,col_indexer] = value instead\n",
            "\n",
            "See the caveats in the documentation: https://pandas.pydata.org/pandas-docs/stable/user_guide/indexing.html#returning-a-view-versus-a-copy\n",
            "  X.fillna(X.mean(), inplace=True)\n"
          ]
        }
      ]
    },
    {
      "cell_type": "code",
      "source": [
        "X_train, X_test, y_train, y_test = train_test_split(X, y, test_size=0.2, random_state=42)\n"
      ],
      "metadata": {
        "id": "9pKCxJXizjhU"
      },
      "execution_count": 10,
      "outputs": []
    },
    {
      "cell_type": "code",
      "source": [
        "model = RandomForestClassifier(n_estimators=100, random_state=42)\n",
        "model.fit(X_train, y_train)\n"
      ],
      "metadata": {
        "id": "vt6DN7c8zmEl",
        "colab": {
          "base_uri": "https://localhost:8080/",
          "height": 74
        },
        "outputId": "874278f4-79f9-4bce-c59a-b9f56035fc79"
      },
      "execution_count": 11,
      "outputs": [
        {
          "output_type": "execute_result",
          "data": {
            "text/plain": [
              "RandomForestClassifier(random_state=42)"
            ],
            "text/html": [
              "<style>#sk-container-id-1 {color: black;background-color: white;}#sk-container-id-1 pre{padding: 0;}#sk-container-id-1 div.sk-toggleable {background-color: white;}#sk-container-id-1 label.sk-toggleable__label {cursor: pointer;display: block;width: 100%;margin-bottom: 0;padding: 0.3em;box-sizing: border-box;text-align: center;}#sk-container-id-1 label.sk-toggleable__label-arrow:before {content: \"▸\";float: left;margin-right: 0.25em;color: #696969;}#sk-container-id-1 label.sk-toggleable__label-arrow:hover:before {color: black;}#sk-container-id-1 div.sk-estimator:hover label.sk-toggleable__label-arrow:before {color: black;}#sk-container-id-1 div.sk-toggleable__content {max-height: 0;max-width: 0;overflow: hidden;text-align: left;background-color: #f0f8ff;}#sk-container-id-1 div.sk-toggleable__content pre {margin: 0.2em;color: black;border-radius: 0.25em;background-color: #f0f8ff;}#sk-container-id-1 input.sk-toggleable__control:checked~div.sk-toggleable__content {max-height: 200px;max-width: 100%;overflow: auto;}#sk-container-id-1 input.sk-toggleable__control:checked~label.sk-toggleable__label-arrow:before {content: \"▾\";}#sk-container-id-1 div.sk-estimator input.sk-toggleable__control:checked~label.sk-toggleable__label {background-color: #d4ebff;}#sk-container-id-1 div.sk-label input.sk-toggleable__control:checked~label.sk-toggleable__label {background-color: #d4ebff;}#sk-container-id-1 input.sk-hidden--visually {border: 0;clip: rect(1px 1px 1px 1px);clip: rect(1px, 1px, 1px, 1px);height: 1px;margin: -1px;overflow: hidden;padding: 0;position: absolute;width: 1px;}#sk-container-id-1 div.sk-estimator {font-family: monospace;background-color: #f0f8ff;border: 1px dotted black;border-radius: 0.25em;box-sizing: border-box;margin-bottom: 0.5em;}#sk-container-id-1 div.sk-estimator:hover {background-color: #d4ebff;}#sk-container-id-1 div.sk-parallel-item::after {content: \"\";width: 100%;border-bottom: 1px solid gray;flex-grow: 1;}#sk-container-id-1 div.sk-label:hover label.sk-toggleable__label {background-color: #d4ebff;}#sk-container-id-1 div.sk-serial::before {content: \"\";position: absolute;border-left: 1px solid gray;box-sizing: border-box;top: 0;bottom: 0;left: 50%;z-index: 0;}#sk-container-id-1 div.sk-serial {display: flex;flex-direction: column;align-items: center;background-color: white;padding-right: 0.2em;padding-left: 0.2em;position: relative;}#sk-container-id-1 div.sk-item {position: relative;z-index: 1;}#sk-container-id-1 div.sk-parallel {display: flex;align-items: stretch;justify-content: center;background-color: white;position: relative;}#sk-container-id-1 div.sk-item::before, #sk-container-id-1 div.sk-parallel-item::before {content: \"\";position: absolute;border-left: 1px solid gray;box-sizing: border-box;top: 0;bottom: 0;left: 50%;z-index: -1;}#sk-container-id-1 div.sk-parallel-item {display: flex;flex-direction: column;z-index: 1;position: relative;background-color: white;}#sk-container-id-1 div.sk-parallel-item:first-child::after {align-self: flex-end;width: 50%;}#sk-container-id-1 div.sk-parallel-item:last-child::after {align-self: flex-start;width: 50%;}#sk-container-id-1 div.sk-parallel-item:only-child::after {width: 0;}#sk-container-id-1 div.sk-dashed-wrapped {border: 1px dashed gray;margin: 0 0.4em 0.5em 0.4em;box-sizing: border-box;padding-bottom: 0.4em;background-color: white;}#sk-container-id-1 div.sk-label label {font-family: monospace;font-weight: bold;display: inline-block;line-height: 1.2em;}#sk-container-id-1 div.sk-label-container {text-align: center;}#sk-container-id-1 div.sk-container {/* jupyter's `normalize.less` sets `[hidden] { display: none; }` but bootstrap.min.css set `[hidden] { display: none !important; }` so we also need the `!important` here to be able to override the default hidden behavior on the sphinx rendered scikit-learn.org. See: https://github.com/scikit-learn/scikit-learn/issues/21755 */display: inline-block !important;position: relative;}#sk-container-id-1 div.sk-text-repr-fallback {display: none;}</style><div id=\"sk-container-id-1\" class=\"sk-top-container\"><div class=\"sk-text-repr-fallback\"><pre>RandomForestClassifier(random_state=42)</pre><b>In a Jupyter environment, please rerun this cell to show the HTML representation or trust the notebook. <br />On GitHub, the HTML representation is unable to render, please try loading this page with nbviewer.org.</b></div><div class=\"sk-container\" hidden><div class=\"sk-item\"><div class=\"sk-estimator sk-toggleable\"><input class=\"sk-toggleable__control sk-hidden--visually\" id=\"sk-estimator-id-1\" type=\"checkbox\" checked><label for=\"sk-estimator-id-1\" class=\"sk-toggleable__label sk-toggleable__label-arrow\">RandomForestClassifier</label><div class=\"sk-toggleable__content\"><pre>RandomForestClassifier(random_state=42)</pre></div></div></div></div></div>"
            ]
          },
          "metadata": {},
          "execution_count": 11
        }
      ]
    },
    {
      "cell_type": "code",
      "source": [
        "y_pred = model.predict(X_test)\n",
        "print(\"Accuracy:\", accuracy_score(y_test, y_pred))\n",
        "print(\"Classification Report:\\n\", classification_report(y_test, y_pred))\n"
      ],
      "metadata": {
        "id": "yj-Y1LpJzob5",
        "colab": {
          "base_uri": "https://localhost:8080/"
        },
        "outputId": "fc07f039-0ba8-45de-f705-182df024fd02"
      },
      "execution_count": 12,
      "outputs": [
        {
          "output_type": "stream",
          "name": "stdout",
          "text": [
            "Accuracy: 0.55\n",
            "Classification Report:\n",
            "               precision    recall  f1-score   support\n",
            "\n",
            "           0       0.59      0.69      0.64       115\n",
            "           1       0.46      0.36      0.41        85\n",
            "\n",
            "    accuracy                           0.55       200\n",
            "   macro avg       0.53      0.53      0.52       200\n",
            "weighted avg       0.54      0.55      0.54       200\n",
            "\n"
          ]
        }
      ]
    }
  ]
}